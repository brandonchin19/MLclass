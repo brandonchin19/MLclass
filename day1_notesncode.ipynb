{
 "cells": [
  {
   "cell_type": "markdown",
   "metadata": {},
   "source": [
    "ETP \n",
    "Experience \n",
    "Task\n",
    "P=Measure \n",
    "\n",
    "Supervised: If the variables have labels.\n",
    "\n",
    "Categories of ML:\n",
    "    -Supervise Learning: Needs Human Supervision\n",
    "    -Unsupervised Learning\n",
    "    -Semi-Supervised Learning\n",
    "    -Reinforcement Learning\n",
    "\n",
    "How learning is done:\n",
    "    -Batch Learning: cannot learn incrementally\n",
    "    -Online Learning: can learn incrementally (example: Youtube)\n",
    "\n",
    "If learning needs training a model, then we have:\n",
    "    -Instance-based Learning: does not need a training model\n",
    "    -Model-based Learning: needs training model\n",
    "\n",
    "If learning needs training Depp Neural Networks (DNNs):\n",
    "    -Shallow Learning\n",
    "    -Deep Learning: needs training DNNs\n",
    "\n",
    "Target = Y(Dependent Var), What is trying to be predicted\n",
    "Feature= X(Independent Variable) any varible that is not a target, What are your predictors?\n",
    "\n"
   ]
  },
  {
   "cell_type": "code",
   "execution_count": null,
   "metadata": {},
   "outputs": [],
   "source": []
  }
 ],
 "metadata": {
  "language_info": {
   "name": "python"
  },
  "orig_nbformat": 4
 },
 "nbformat": 4,
 "nbformat_minor": 2
}
